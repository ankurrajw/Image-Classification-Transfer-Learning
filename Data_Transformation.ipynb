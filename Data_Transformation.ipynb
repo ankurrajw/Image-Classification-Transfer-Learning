{
 "cells": [
  {
   "cell_type": "markdown",
   "metadata": {},
   "source": [
    "# Functions for resizing Images, Data Transformation"
   ]
  },
  {
   "cell_type": "code",
   "execution_count": null,
   "metadata": {},
   "outputs": [],
   "source": [
    "#Resize the images to save on computaion power\n",
    "def resize_image(foldername):\n",
    "    from PIL import Image\n",
    "    import glob\n",
    "    source = '----FileLocation--/'+foldername+ '/*.png'\n",
    "    saveloc = '----FileLocation--/' + foldername\n",
    "    for i , imagename in enumerate(glob.iglob(source)):\n",
    "        image = Image.open(imagename)\n",
    "        im_resize = image.resize((224,224), Image.ANTIALIAS)\n",
    "        im_resize.save((saveloc + '/{0}' + \".png\").format(i))\n",
    "    print(foldername + \" done\")\n",
    "\n",
    "# Create more data with the help of Image Transormation\n",
    "\n",
    "def more_data(foldername,num_image,num_end):\n",
    "    from PIL import Image\n",
    "    import glob\n",
    "    source = '----FileLocation--/'+ foldername + '/*.png'\n",
    "    saveloc = '----FileLocation--/' + foldername\n",
    "    exit_cond = False\n",
    "    for i , imagename in enumerate(glob.iglob(source)):\n",
    "        \n",
    "        if (i <= num_image):\n",
    "            image = Image.open(imagename)\n",
    "            #im_flip = image.transpose(Image.FLIP_LEFT_RIGHT)\n",
    "            im_conv = image.convert('L')\n",
    "            im_resize = im_conv.resize((224,224), Image.ANTIALIAS)\n",
    "            im_resize.save((saveloc + '/{0}' + \".png\").format(i+num_end))\n",
    "    print(foldername + \" done\")"
   ]
  },
  {
   "cell_type": "markdown",
   "metadata": {},
   "source": [
    "### Function for displaying number of images per class"
   ]
  },
  {
   "cell_type": "code",
   "execution_count": null,
   "metadata": {},
   "outputs": [],
   "source": [
    "data_dir = '----FileLocation--/'\n",
    "dataset = datasets.ImageFolder(data_dir)\n",
    "\n",
    "def display_class_info():\n",
    "    len_subclass = []\n",
    "    num = 0\n",
    "    for j in range(0,8):\n",
    "        for i in dataset.targets:\n",
    "            if (i == j):\n",
    "                num+=1\n",
    "        len_subclass.append(num)\n",
    "        num = 0\n",
    "    print(len_subclass)\n",
    "    #print(dataset.classes)\n",
    "display_class_info()"
   ]
  }
 ],
 "metadata": {
  "kernelspec": {
   "display_name": "Python 3",
   "language": "python",
   "name": "python3"
  },
  "language_info": {
   "codemirror_mode": {
    "name": "ipython",
    "version": 3
   },
   "file_extension": ".py",
   "mimetype": "text/x-python",
   "name": "python",
   "nbconvert_exporter": "python",
   "pygments_lexer": "ipython3",
   "version": "3.8.3"
  }
 },
 "nbformat": 4,
 "nbformat_minor": 4
}
